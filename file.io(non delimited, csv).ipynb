{
 "cells": [
  {
   "cell_type": "code",
   "execution_count": 11,
   "id": "5ff190e4",
   "metadata": {},
   "outputs": [
    {
     "name": "stdout",
     "output_type": "stream",
     "text": [
      "['Ethan', 'Win', '25']\n",
      "['Isabella', 'Win', '26']\n",
      "['Alexander', 'Win', '32']\n",
      "['Amelia', 'Win', '27']\n",
      "['Benjamin', 'Win', '30']\n",
      "['Evelyn', 'Win', '31']\n",
      "['Abigail', 'Win', '28']\n",
      "['Michael', 'Win', '29']\n",
      "['Scarlett', 'Win', '26']\n",
      "['Madison', 'Win', '31']\n",
      "['Grace', 'Win', '25']\n",
      "['Matthew', 'Win', '28']\n",
      "['Logan', 'Win', '29']\n",
      "['David', 'Win', '30']\n",
      "['Samuel', 'Win', '27']\n",
      "['Sofia', 'Win', '25']\n",
      "['Henry', 'Win', '28']\n",
      "['Victoria', 'Win', '29']\n",
      "['Ella', 'Win', '27']\n",
      "['Isaac', 'Win', '25']\n",
      "['Aubrey', 'Win', '29']\n",
      "['Christopher', 'Win', '31']\n",
      "['Penelope', 'Win', '25']\n",
      "['Ariana', 'Win', '30']\n",
      "['Christian', 'Win', '26']\n",
      "['Maya', 'Win', '29']\n",
      "['Jonathan', 'Win', '27']\n",
      "['Skylar', 'Win', '24']\n",
      "['Levi', 'Win', '28']\n",
      "['Aaron', 'Win', '30']\n",
      "['Kinsley', 'Win', '29']\n",
      "['Hailey', 'Win', '26']\n",
      "['Charles', 'Win', '31']\n",
      "['Jordan', 'Win', '30']\n",
      "['Grayson', 'Win', '28']\n",
      "['Arianna', 'Win', '26']\n",
      "['Leah', 'Win', '29']\n",
      "['Carson', 'Win', '31']\n",
      "['Dominic', 'Win', '29']\n"
     ]
    }
   ],
   "source": [
    "file = open('Name.txt', 'r') # read mode\n",
    "data = []\n",
    "for line in file:\n",
    "    line = line.strip()\n",
    "    line = line.split()\n",
    "    #print(line)\n",
    "    data.append(line)\n",
    "\n",
    "file.close()\n",
    "#print(data)\n",
    "\n",
    "for row in data:\n",
    "    if row[1] == 'Win':\n",
    "        print(row)\n",
    "    "
   ]
  },
  {
   "cell_type": "code",
   "execution_count": 19,
   "id": "0399d3eb",
   "metadata": {},
   "outputs": [
    {
     "name": "stdout",
     "output_type": "stream",
     "text": [
      "['Marco, Win, 27']\n"
     ]
    }
   ],
   "source": [
    "file = open('testfile.txt', 'w') # write mode\n",
    "file.write('Marco, Win, 27')\n",
    "file.close()\n",
    "file = open('testfile.txt', 'r')\n",
    "data1 = []\n",
    "for line in file:\n",
    "    data1.append(line)\n",
    "file.close()\n",
    "print(data1)"
   ]
  },
  {
   "cell_type": "code",
   "execution_count": 20,
   "id": "78edf2f9",
   "metadata": {},
   "outputs": [
    {
     "name": "stdout",
     "output_type": "stream",
     "text": [
      "[['Ethan', 'Win', '25'], ['Ava', 'Lose', '28'], ['Caleb', 'Lose', '31'], ['Sophia', 'Draw', '24'], ['Lucas', 'Lose', '29'], ['Isabella', 'Win', '26'], ['Mason', 'Draw', '27'], ['Mia', 'Lose', '30'], ['Alexander', 'Win', '32'], ['Charlotte', 'Draw', '23'], ['Liam', 'Lose', '28'], ['Amelia', 'Win', '27'], ['Noah', 'Draw', '26'], ['Harper', 'Draw', '29'], ['Benjamin', 'Win', '30'], ['Evelyn', 'Win', '31'], ['Jacob', 'Lose', '25'], ['Abigail', 'Win', '28'], ['William', 'Lose', '26'], ['Emily', 'Lose', '27'], ['Michael', 'Win', '29'], ['Elizabeth', 'Lose', '30'], ['James', 'Draw', '24'], ['Scarlett', 'Win', '26'], ['Elijah', 'Lose', '28'], ['Madison', 'Win', '31'], ['Oliver', 'Lose', '27'], ['Grace', 'Win', '25'], ['Daniel', 'Draw', '29'], ['Lily', 'Lose', '30'], ['Matthew', 'Win', '28'], ['Chloe', 'Lose', '26'], ['Jackson', 'Draw', '27'], ['Avery', 'Lose', '32'], ['Logan', 'Win', '29'], ['Zoey', 'Draw', '25'], ['David', 'Win', '30'], ['Riley', 'Lose', '26'], ['Joseph', 'Lose', '24'], ['Layla', 'Draw', '28'], ['Samuel', 'Win', '27'], ['Sofia', 'Win', '25'], ['Gabriel', 'Lose', '30'], ['Aria', 'Draw', '26'], ['Henry', 'Win', '28'], ['Victoria', 'Win', '29'], ['Andrew', 'Lose', '31'], ['Ella', 'Win', '27'], ['Carter', 'Lose', '26'], ['Natalie', 'Draw', '24'], ['Isaac', 'Win', '25'], ['Addison', 'Lose', '30'], ['Dylan', 'Draw', '28'], ['Aubrey', 'Win', '29'], ['Luke', 'Lose', '27'], ['Savannah', 'Draw', '26'], ['Christopher', 'Win', '31'], ['Brooklyn', 'Draw', '28'], ['Joshua', 'Lose', '29'], ['Penelope', 'Win', '25'], ['Ryan', 'Lose', '26'], ['Ariana', 'Win', '30'], ['Nathan', 'Lose', '28'], ['Ellie', 'Draw', '27'], ['Christian', 'Win', '26'], ['Grace', 'Lose', '30'], ['Brayden', 'Lose', '25'], ['Maya', 'Win', '29'], ['Jonathan', 'Win', '27'], ['Nora', 'Draw', '28'], ['Cameron', 'Lose', '26'], ['Skylar', 'Win', '24'], ['Julian', 'Draw', '31'], ['Paisley', 'Lose', '29'], ['Levi', 'Win', '28'], ['Anna', 'Lose', '27'], ['Aaron', 'Win', '30'], ['Luna', 'Draw', '26'], ['Gavin', 'Lose', '25'], ['Kinsley', 'Win', '29'], ['Robert', 'Lose', '30'], ['Hailey', 'Win', '26'], ['Josiah', 'Draw', '27'], ['Sadie', 'Lose', '28'], ['Charles', 'Win', '31'], ['Gabriella', 'Draw', '29'], ['Jordan', 'Win', '30'], ['Vanessa', 'Lose', '26'], ['Grayson', 'Win', '28'], ['Clara', 'Lose', '27'], ['Adam', 'Draw', '25'], ['Arianna', 'Win', '26'], ['Lincoln', 'Lose', '30'], ['Leah', 'Win', '29'], ['Xavier', 'Lose', '28'], ['Isabelle', 'Draw', '27'], ['Carson', 'Win', '31'], ['Audrey', 'Draw', '26'], ['Dominic', 'Win', '29'], ['Zoe', 'Lose', '30'], ['Marco,', 'Win,', '27Marco,', 'Win,', '27']]\n"
     ]
    }
   ],
   "source": [
    "file = open('Name.txt', 'a') # append mode\n",
    "file.write('Marco, Win, 27')\n",
    "file.close()\n",
    "file = open('Name.txt', 'r')\n",
    "data = []\n",
    "for line in file:\n",
    "    line = line.strip().split()\n",
    "    data.append(line)\n",
    "file.close()\n",
    "print(data)"
   ]
  },
  {
   "cell_type": "code",
   "execution_count": 3,
   "id": "696d2fa7",
   "metadata": {},
   "outputs": [
    {
     "name": "stdout",
     "output_type": "stream",
     "text": [
      "[['Name,Age,Outcome'], ['Ethan,25,Win'], ['Ava,28,Lose'], ['Caleb,31,Lose'], ['Sophia,24,Draw'], ['Lucas,29,Lose'], ['Isabella,26,Win'], ['Mason,27,Draw'], ['Mia,30,Lose'], ['Alexander,32,Win'], ['Charlotte,23,Draw'], ['Liam,28,Lose'], ['Amelia,27,Win'], ['Noah,26,Draw'], ['Harper,29,Draw'], ['Benjamin,30,Win'], ['Evelyn,31,Win'], ['Jacob,25,Lose'], ['Abigail,28,Win'], ['William,26,Lose'], ['Emily,27,Lose'], ['Michael,29,Win'], ['Elizabeth,30,Lose'], ['James,24,Draw'], ['Scarlett,26,Win'], ['Elijah,28,Lose'], ['Madison,31,Win'], ['Oliver,27,Lose'], ['Grace,25,Win'], ['Daniel,29,Draw'], ['Lily,30,Lose'], ['Matthew,28,Win'], ['Chloe,26,Lose'], ['Jackson,27,Draw'], ['Avery,32,Lose'], ['Logan,29,Win'], ['Zoey,25,Draw'], ['David,30,Win'], ['Riley,26,Lose'], ['Joseph,24,Lose'], ['Layla,28,Draw'], ['Samuel,27,Win'], ['Sofia,25,Win'], ['Gabriel,30,Lose'], ['Aria,26,Draw'], ['Henry,28,Win'], ['Victoria,29,Win'], ['Andrew,31,Lose'], ['Ella,27,Win'], ['Carter,26,Lose'], ['Natalie,24,Draw'], ['Isaac,25,Win'], ['Addison,30,Lose'], ['Dylan,28,Draw'], ['Aubrey,29,Win'], ['Luke,27,Lose'], ['Savannah,26,Draw'], ['Christopher,31,Win'], ['Brooklyn,28,Draw'], ['Joshua,29,Lose'], ['Penelope,25,Win'], ['Ryan,26,Lose'], ['Ariana,30,Win'], ['Nathan,28,Lose'], ['Ellie,27,Draw'], ['Christian,26,Win'], ['Grace,30,Lose'], ['Brayden,25,Lose'], ['Maya,29,Win'], ['Jonathan,27,Win'], ['Nora,28,Draw'], ['Cameron,26,Lose'], ['Skylar,24,Win'], ['Julian,31,Draw'], ['Paisley,29,Lose'], ['Levi,28,Win'], ['Anna,27,Lose'], ['Aaron,30,Win'], ['Luna,26,Draw'], ['Gavin,25,Lose'], ['Kinsley,29,Win'], ['Robert,30,Lose'], ['Hailey,26,Win'], ['Josiah,27,Draw'], ['Sadie,28,Lose'], ['Charles,31,Win'], ['Gabriella,29,Draw'], ['Jordan,30,Win'], ['Vanessa,26,Lose'], ['Grayson,28,Win'], ['Clara,27,Lose'], ['Adam,25,Draw'], ['Arianna,26,Win'], ['Lincoln,30,Lose'], ['Leah,29,Win'], ['Xavier,28,Lose'], ['Isabelle,27,Draw'], ['Carson,31,Win'], ['Audrey,26,Draw'], ['Dominic,29,Win'], ['Zoe,30,Lose']]\n"
     ]
    }
   ],
   "source": [
    "import csv\n",
    "file = open('Competition.csv', 'r')\n",
    "data = csv.reader(file, delimiter = ',')\n",
    "list_of_data = []\n",
    "for row in data:\n",
    "    list_of_data.append(row)\n",
    "print(list_of_data)\n",
    "\n",
    "file.close()"
   ]
  },
  {
   "cell_type": "code",
   "execution_count": 6,
   "id": "65fa5241",
   "metadata": {},
   "outputs": [
    {
     "name": "stdout",
     "output_type": "stream",
     "text": [
      "Data added successfully!\n"
     ]
    }
   ],
   "source": [
    "import csv\n",
    "\n",
    "# Data to be added\n",
    "new_data = [\n",
    "    ['John', 33, 'Win'],\n",
    "    ['Emma', 29, 'Draw']\n",
    "]\n",
    "\n",
    "# Open the CSV file in append mode\n",
    "file = open('competition.csv', 'a', newline='')\n",
    "\n",
    "# Create a CSV writer object\n",
    "data_writer = csv.writer(file)\n",
    "    # Write each row of new data to the CSV file\n",
    "for row in new_data:\n",
    "    data_writer.writerow(row)\n",
    "\n",
    "print(\"Data added successfully!\")\n"
   ]
  },
  {
   "cell_type": "code",
   "execution_count": null,
   "id": "1dc3d7f7",
   "metadata": {},
   "outputs": [],
   "source": []
  }
 ],
 "metadata": {
  "kernelspec": {
   "display_name": "Python 3",
   "language": "python",
   "name": "python3"
  },
  "language_info": {
   "codemirror_mode": {
    "name": "ipython",
    "version": 3
   },
   "file_extension": ".py",
   "mimetype": "text/x-python",
   "name": "python",
   "nbconvert_exporter": "python",
   "pygments_lexer": "ipython3",
   "version": "3.6.4"
  }
 },
 "nbformat": 4,
 "nbformat_minor": 5
}
