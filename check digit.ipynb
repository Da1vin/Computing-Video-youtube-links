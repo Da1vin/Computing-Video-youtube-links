{
 "cells": [
  {
   "cell_type": "code",
   "execution_count": 3,
   "id": "2c20e2f3",
   "metadata": {},
   "outputs": [
    {
     "name": "stdout",
     "output_type": "stream",
     "text": [
      "[6, 1, 4, 1, 4, 1, 2, 1, 0, 2, 2, 0]\n",
      "first_total =  18\n",
      "third_total =  6\n",
      "fourth_total =  60\n",
      "check digit =  0\n",
      "last digit =  0\n"
     ]
    }
   ],
   "source": [
    "def generate_check_digit(gtin):\n",
    "    gtin_list = []\n",
    "    # temporary variable for later use\n",
    "    first_total = -1\n",
    "    second_total = -1\n",
    "    thrid_total = -1\n",
    "    fourth_total = -1\n",
    "    check_digit = -1\n",
    "    \n",
    "    # convert string to list\n",
    "    for i in range(len(gtin)):\n",
    "        gtin_list.append(int(gtin[i]))\n",
    "    print(gtin_list)\n",
    "    \n",
    "    # Add the numbers in Positions One, Three, Five, Seven, Nine, and Eleven\n",
    "    first_total = int(gtin[0]) + int(gtin[2]) + int(gtin[4]) + int(gtin[6]) + int(gtin[8]) + int(gtin[10])\n",
    "    print('first_total = ', first_total)\n",
    "    # Multiply the result of first_total by three\n",
    "    second_total = first_total * 3\n",
    "    # Add the numbers in Positions Two, Four, Six, Eight, and Ten\n",
    "    third_total = int(gtin[1]) + int(gtin[3]) + int(gtin[5]) + int(gtin[7]) + int(gtin[9])\n",
    "    print('third_total = ', third_total)\n",
    "    # Add the results of second_total and third_total\n",
    "    fourth_total = second_total + third_total\n",
    "    print('fourth_total = ', fourth_total)\n",
    "    # The Check Digit is the smallest number needed to round the fourth_total up to the nearest multiple of 10\n",
    "    check_digit = fourth_total % 10\n",
    "    print('check digit = ', check_digit)\n",
    "    print('last digit = ', gtin[11])\n",
    "#main\n",
    "num1 = '614141210220'\n",
    "generate_check_digit(num1)"
   ]
  },
  {
   "cell_type": "code",
   "execution_count": null,
   "id": "46c4eef5",
   "metadata": {},
   "outputs": [],
   "source": []
  },
  {
   "cell_type": "code",
   "execution_count": null,
   "id": "28b8e338",
   "metadata": {},
   "outputs": [],
   "source": []
  }
 ],
 "metadata": {
  "kernelspec": {
   "display_name": "Python 3",
   "language": "python",
   "name": "python3"
  },
  "language_info": {
   "codemirror_mode": {
    "name": "ipython",
    "version": 3
   },
   "file_extension": ".py",
   "mimetype": "text/x-python",
   "name": "python",
   "nbconvert_exporter": "python",
   "pygments_lexer": "ipython3",
   "version": "3.6.4"
  }
 },
 "nbformat": 4,
 "nbformat_minor": 5
}
