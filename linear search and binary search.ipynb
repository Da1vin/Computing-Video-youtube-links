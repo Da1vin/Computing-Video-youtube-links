{
 "cells": [
  {
   "cell_type": "code",
   "execution_count": 1,
   "id": "9b5ccc89",
   "metadata": {},
   "outputs": [
    {
     "name": "stdout",
     "output_type": "stream",
     "text": [
      "not found\n",
      "0\n"
     ]
    }
   ],
   "source": [
    "# linear search (for loop)\n",
    "def linear_search(A, target):  \n",
    "  for i in range(len(A)):\n",
    "    if A[i] == target: # found\n",
    "      return i\n",
    "  return \"not found\" # not found \n",
    "\n",
    "# main\n",
    "data = [4, 2, 8, 9, 7]\n",
    "print(linear_search(data, 9)) # success \n",
    "print(linear_search(data, 10)) # failure"
   ]
  },
  {
   "cell_type": "code",
   "execution_count": 2,
   "id": "84e67e4d",
   "metadata": {},
   "outputs": [
    {
     "name": "stdout",
     "output_type": "stream",
     "text": [
      "not found\n",
      "0\n"
     ]
    }
   ],
   "source": [
    "# linear search (while loop)\n",
    "def linear_search(A, target):\n",
    "  counter = 0  \n",
    "  while counter < len(A):\n",
    "    if A[counter] == target: # found\n",
    "      return counter\n",
    "    counter += 1\n",
    "  return \"not found\" # not found \n",
    "\n",
    "# main\n",
    "data = [4, 2, 8, 9, 7]\n",
    "print(linear_search(data, 1)) # success \n",
    "print(linear_search(data, 10)) # failure"
   ]
  },
  {
   "cell_type": "code",
   "execution_count": 3,
   "id": "3ce53d9b",
   "metadata": {},
   "outputs": [
    {
     "name": "stdout",
     "output_type": "stream",
     "text": [
      "1\n",
      "not found\n"
     ]
    }
   ],
   "source": [
    "# binary search \n",
    "def binary_search(A, target):\n",
    "  low = 0 # start index\n",
    "  high = len(A) - 1 # end index\n",
    "  while low <= high: # no more items to search\n",
    "    mid = (low + high) // 2 # find middle position\n",
    "    if A[mid] == target: # found\n",
    "      return mid # success\n",
    "    elif A[mid] > target: # target in left half\n",
    "      high = mid - 1\n",
    "    else: # A[mid] < target, ie target in right half\n",
    "      low = mid + 1\n",
    "  return \"not found\"\n",
    "\n",
    "# main\n",
    "data = [1, 2, 3, 5, 6, 7, 9, 10]\n",
    "print(binary_search(data, 2))\n",
    "print(binary_search(data, 8)) "
   ]
  },
  {
   "cell_type": "code",
   "execution_count": null,
   "id": "fa7fc47d",
   "metadata": {},
   "outputs": [],
   "source": []
  }
 ],
 "metadata": {
  "kernelspec": {
   "display_name": "Python 3",
   "language": "python",
   "name": "python3"
  },
  "language_info": {
   "codemirror_mode": {
    "name": "ipython",
    "version": 3
   },
   "file_extension": ".py",
   "mimetype": "text/x-python",
   "name": "python",
   "nbconvert_exporter": "python",
   "pygments_lexer": "ipython3",
   "version": "3.6.4"
  }
 },
 "nbformat": 4,
 "nbformat_minor": 5
}
