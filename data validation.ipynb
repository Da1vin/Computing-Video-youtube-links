{
 "cells": [
  {
   "cell_type": "code",
   "execution_count": 2,
   "id": "89ac1e1d",
   "metadata": {
    "scrolled": true
   },
   "outputs": [
    {
     "name": "stdout",
     "output_type": "stream",
     "text": [
      "Enter phone number: \n",
      "Empty input\n",
      "Enter phone number: 9876\n",
      "Please enter 8 digits\n",
      "Enter phone number: 09876543\n",
      "09876543 ok\n"
     ]
    }
   ],
   "source": [
    "# Validation workflow for phone number validation\n",
    "# assume invalid phone number\n",
    "valid_phone_no = False\n",
    "# while not valid\n",
    "while valid_phone_no == False:\n",
    "  # input phone number\n",
    "  phone_no = input(\"Enter phone number: \")\n",
    "  if phone_no == '':  # presence check\n",
    "    print(\"Empty input\")\n",
    "  elif phone_no.isdigit() == False: # format (data type) check\n",
    "    print(\"Please enter digits\")\n",
    "  elif len(phone_no) != 8: # length check\n",
    "    print(\"Please enter 8 digits\")\n",
    "  else: # if valid, set valid age to true\n",
    "    valid_phone_no = True\n",
    "print(phone_no, \"ok\")"
   ]
  },
  {
   "cell_type": "code",
   "execution_count": 3,
   "id": "8287a1ce",
   "metadata": {},
   "outputs": [
    {
     "name": "stdout",
     "output_type": "stream",
     "text": [
      "Enter phone number: \n",
      "Empty input\n",
      "Enter phone number: 12345\n",
      "Please enter 8 digits\n",
      "Enter phone number: 34569872\n",
      "34569872 ok\n"
     ]
    }
   ],
   "source": [
    "# Validation workflow for phone number validation\n",
    "# assume invalid phone number\n",
    "valid_phone_no = False\n",
    "# while not valid\n",
    "while not valid_phone_no:\n",
    "  # input phone number\n",
    "  phone_no = input(\"Enter phone number: \")\n",
    "  if phone_no == '':  # presence check\n",
    "    print(\"Empty input\")\n",
    "  elif not phone_no.isdigit(): # format (data type) check\n",
    "    print(\"Please enter digits\")\n",
    "  elif not len(phone_no) == 8: # length check\n",
    "    print(\"Please enter 8 digits\")\n",
    "  else: # if valid, set valid age to true\n",
    "    valid_phone_no = True\n",
    "print(phone_no, \"ok\")"
   ]
  },
  {
   "cell_type": "code",
   "execution_count": null,
   "id": "6777162b",
   "metadata": {},
   "outputs": [],
   "source": []
  }
 ],
 "metadata": {
  "kernelspec": {
   "display_name": "Python 3",
   "language": "python",
   "name": "python3"
  },
  "language_info": {
   "codemirror_mode": {
    "name": "ipython",
    "version": 3
   },
   "file_extension": ".py",
   "mimetype": "text/x-python",
   "name": "python",
   "nbconvert_exporter": "python",
   "pygments_lexer": "ipython3",
   "version": "3.6.4"
  }
 },
 "nbformat": 4,
 "nbformat_minor": 5
}
