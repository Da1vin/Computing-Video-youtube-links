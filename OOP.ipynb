{
 "cells": [
  {
   "cell_type": "code",
   "execution_count": 6,
   "id": "ba5243fa",
   "metadata": {},
   "outputs": [
    {
     "name": "stdout",
     "output_type": "stream",
     "text": [
      "initial info: \n",
      "Account Holder: Alice\n",
      "Account Number: 1234567890\n",
      "Current Balance: $1000\n",
      "final info: \n",
      "Account Holder: Bob\n",
      "Account Number: 1234567890\n",
      "Current Balance: $1300\n"
     ]
    }
   ],
   "source": [
    "class BankAccount:\n",
    "    def __init__(self, account_holder, account_number, initial_balance=0):\n",
    "        self.account_holder = account_holder\n",
    "        self.account_number = account_number\n",
    "        self.balance = initial_balance\n",
    "    \n",
    "    def get_account_holder(self):\n",
    "        return self.account_holder\n",
    "    \n",
    "    def get_account_number(self):\n",
    "        return self.account_number\n",
    "    \n",
    "    def get_balance(self):\n",
    "        return self.balance\n",
    "    \n",
    "    def set_account_holder(self, new_account_holder):\n",
    "        self.account_holder = new_account_holder\n",
    "        \n",
    "    def deposit(self, amount):\n",
    "        self.balance += amount\n",
    "\n",
    "    def withdraw(self, amount):\n",
    "        if amount <= self.balance:\n",
    "            self.balance -= amount\n",
    "        else:\n",
    "            print(\"Insufficient funds!\")\n",
    "\n",
    "\n",
    "    def display_info(self):\n",
    "        print(f\"Account Holder: {self.account_holder}\")\n",
    "        print(f\"Account Number: {self.account_number}\")\n",
    "        print(f\"Current Balance: ${self.balance}\")\n",
    "\n",
    "# main\n",
    "\n",
    "# Create an instance of the BankAccount class\n",
    "my_account = BankAccount(\"Alice\", \"1234567890\", 1000)\n",
    "\n",
    "# Display account information\n",
    "print('initial info: ')\n",
    "my_account.display_info()\n",
    "\n",
    "# change the bank account holder\n",
    "my_account.set_account_holder('Bob')\n",
    "\n",
    "# Deposit money\n",
    "my_account.deposit(500)\n",
    "\n",
    "# Withdraw money\n",
    "my_account.withdraw(200)\n",
    "\n",
    "print('final info: ')\n",
    "my_account.display_info()"
   ]
  },
  {
   "cell_type": "code",
   "execution_count": 12,
   "id": "95ebce36",
   "metadata": {},
   "outputs": [
    {
     "name": "stdout",
     "output_type": "stream",
     "text": [
      "Savings Account Information:\n",
      "Account Holder: Bob\n",
      "Account Number: 0987654321\n",
      "Current Balance: $2000\n",
      "Interest Rate: 0.05\n",
      "updated account information\n",
      "Account Holder: Bob\n",
      "Account Number: 0987654321\n",
      "Current Balance: $2625.0\n",
      "Interest Rate: 0.05\n"
     ]
    }
   ],
   "source": [
    "class SavingsAccount(BankAccount):\n",
    "    def __init__(self, account_holder, account_number, initial_balance=0, interest_rate=0.05):\n",
    "        super().__init__(account_holder, account_number, initial_balance)\n",
    "        self.interest_rate = interest_rate\n",
    "    \n",
    "    def get_interest_rate(self):\n",
    "        return self.interest_rate\n",
    "    \n",
    "    def accrue_interest(self):\n",
    "        self.balance = self.balance * (1 + self.interest_rate)\n",
    "    \n",
    "    def display_info(self):\n",
    "        print(f\"Account Holder: {self.account_holder}\")\n",
    "        print(f\"Account Number: {self.account_number}\")\n",
    "        print(f\"Current Balance: ${self.balance}\")\n",
    "        print(f\"Interest Rate: {self.interest_rate}\")\n",
    "\n",
    "# Create an instance of the SavingsAccount class\n",
    "my_savings_account = SavingsAccount(\"Bob\", \"0987654321\", 2000)\n",
    "\n",
    "# Display account information\n",
    "print(\"Savings Account Information:\")\n",
    "my_savings_account.display_info()\n",
    "\n",
    "# Deposit money\n",
    "my_savings_account.deposit(1000)\n",
    "\n",
    "# Withdraw money\n",
    "my_savings_account.withdraw(500)\n",
    "\n",
    "# Accrue interest\n",
    "my_savings_account.accrue_interest()\n",
    "\n",
    "# updated account information\n",
    "print('updated account information')\n",
    "my_savings_account.display_info()"
   ]
  },
  {
   "cell_type": "code",
   "execution_count": null,
   "id": "47596afb",
   "metadata": {},
   "outputs": [],
   "source": []
  }
 ],
 "metadata": {
  "kernelspec": {
   "display_name": "Python 3",
   "language": "python",
   "name": "python3"
  },
  "language_info": {
   "codemirror_mode": {
    "name": "ipython",
    "version": 3
   },
   "file_extension": ".py",
   "mimetype": "text/x-python",
   "name": "python",
   "nbconvert_exporter": "python",
   "pygments_lexer": "ipython3",
   "version": "3.6.4"
  }
 },
 "nbformat": 4,
 "nbformat_minor": 5
}
