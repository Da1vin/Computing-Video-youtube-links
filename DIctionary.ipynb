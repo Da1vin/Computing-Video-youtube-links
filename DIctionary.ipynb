{
 "cells": [
  {
   "cell_type": "code",
   "execution_count": 6,
   "id": "c72e1a38",
   "metadata": {
    "scrolled": true
   },
   "outputs": [
    {
     "name": "stdout",
     "output_type": "stream",
     "text": [
      "18\n"
     ]
    }
   ],
   "source": [
    "student = {'name': 'Edith',\n",
    "          'age': 18,\n",
    "          'gender': 'female',\n",
    "          'home_class': 12,\n",
    "          'subject': ['Physics', 'Computing', 'Math']\n",
    "          }\n",
    "print(student['age'])"
   ]
  },
  {
   "cell_type": "code",
   "execution_count": 8,
   "id": "a4999ba4",
   "metadata": {},
   "outputs": [
    {
     "name": "stdout",
     "output_type": "stream",
     "text": [
      "{'name': 'Edith', 'age': 19, 'gender': 'female', 'home_class': 12, 'subject': ['Physics', 'Computing', 'Math'], 'phone_no': '1234-5678'}\n"
     ]
    }
   ],
   "source": [
    "student.update({'age':19})\n",
    "student.update({'phone_no': '1234-5678'})\n",
    "print(student)"
   ]
  },
  {
   "cell_type": "code",
   "execution_count": 10,
   "id": "e58fc924",
   "metadata": {},
   "outputs": [
    {
     "name": "stdout",
     "output_type": "stream",
     "text": [
      "{'name': 'Edith', 'age': 19, 'gender': 'female', 'subject': ['Physics', 'Computing', 'Math'], 'phone_no': '1234-5678'}\n"
     ]
    }
   ],
   "source": [
    "student.pop('home_class')\n",
    "print(student)"
   ]
  },
  {
   "cell_type": "code",
   "execution_count": 11,
   "id": "db37b4a9",
   "metadata": {},
   "outputs": [
    {
     "name": "stdout",
     "output_type": "stream",
     "text": [
      "name\n",
      "age\n",
      "gender\n",
      "subject\n",
      "phone_no\n"
     ]
    }
   ],
   "source": [
    "# i is the key in this case\n",
    "for i in student:\n",
    "    print(i)"
   ]
  },
  {
   "cell_type": "code",
   "execution_count": 13,
   "id": "7ce6c056",
   "metadata": {},
   "outputs": [
    {
     "name": "stdout",
     "output_type": "stream",
     "text": [
      "name Edith\n",
      "age 19\n",
      "gender female\n",
      "subject ['Physics', 'Computing', 'Math']\n",
      "phone_no 1234-5678\n"
     ]
    }
   ],
   "source": [
    "# print both key and value\n",
    "for i,j in student.items():\n",
    "    print(i,j)"
   ]
  },
  {
   "cell_type": "code",
   "execution_count": null,
   "id": "94b0cb16",
   "metadata": {},
   "outputs": [],
   "source": []
  }
 ],
 "metadata": {
  "kernelspec": {
   "display_name": "Python 3",
   "language": "python",
   "name": "python3"
  },
  "language_info": {
   "codemirror_mode": {
    "name": "ipython",
    "version": 3
   },
   "file_extension": ".py",
   "mimetype": "text/x-python",
   "name": "python",
   "nbconvert_exporter": "python",
   "pygments_lexer": "ipython3",
   "version": "3.6.4"
  }
 },
 "nbformat": 4,
 "nbformat_minor": 5
}
