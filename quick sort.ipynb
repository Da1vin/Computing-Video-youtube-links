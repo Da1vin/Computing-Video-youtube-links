{
 "cells": [
  {
   "cell_type": "code",
   "execution_count": 1,
   "id": "ae995314",
   "metadata": {},
   "outputs": [
    {
     "name": "stdout",
     "output_type": "stream",
     "text": [
      "[1, 2, 3, 4, 5, 7, 8]\n"
     ]
    }
   ],
   "source": [
    "# quicksort \n",
    "def quicksort(A):\n",
    "    if len(A) <= 1:\n",
    "        return A\n",
    "\n",
    "    pivot = A[len(A) // 2]\n",
    "    left = []\n",
    "    middle = []\n",
    "    right = []\n",
    "\n",
    "    for element in A:\n",
    "        if element < pivot:\n",
    "            left.append(element)\n",
    "        elif element == pivot:\n",
    "            middle.append(element)\n",
    "        else:\n",
    "            right.append(element)\n",
    "\n",
    "    return quicksort(left) + middle + quicksort(right)\n",
    "\n",
    "# main\n",
    "data = [4, 7, 1, 5, 2, 8, 3]\\\n",
    "# after first iteration\n",
    "# [4, 1, 2, 3, 5, 7, 8]\n",
    "print(quicksort(data))"
   ]
  },
  {
   "cell_type": "code",
   "execution_count": null,
   "id": "18813ba4",
   "metadata": {},
   "outputs": [],
   "source": []
  }
 ],
 "metadata": {
  "kernelspec": {
   "display_name": "Python 3",
   "language": "python",
   "name": "python3"
  },
  "language_info": {
   "codemirror_mode": {
    "name": "ipython",
    "version": 3
   },
   "file_extension": ".py",
   "mimetype": "text/x-python",
   "name": "python",
   "nbconvert_exporter": "python",
   "pygments_lexer": "ipython3",
   "version": "3.6.4"
  }
 },
 "nbformat": 4,
 "nbformat_minor": 5
}
