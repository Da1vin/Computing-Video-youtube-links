{
 "cells": [
  {
   "cell_type": "code",
   "execution_count": 6,
   "id": "9ce8339a",
   "metadata": {},
   "outputs": [
    {
     "name": "stdout",
     "output_type": "stream",
     "text": [
      "you are rejected\n"
     ]
    }
   ],
   "source": [
    "student_score =  11\n",
    "chosen_stream = 'sci'\n",
    "sci_stream_cut_off = 10\n",
    "art_stream_cut_off = 11\n",
    "\n",
    "if chosen_stream == 'sci':  \n",
    "  if student_score <= sci_stream_cut_off:  # in this case, the lower the score the better\n",
    "    print('you are accepted')\n",
    "  else:   # what the ‘else’ is doing here is basically (if student score > science stream cut off)\n",
    "    print('you are rejected')\n",
    "if chosen_stream == 'art':  \n",
    "  if student_score <= art_stream_cut_off:  # in this case, the lower the score the better\n",
    "    print('you are accepted')\n",
    "  else:   # what the ‘else’ is doing here is basically (if student score > art_stream cut off)\n",
    "    print('you are rejected')\n"
   ]
  },
  {
   "cell_type": "code",
   "execution_count": 40,
   "id": "623eab5f",
   "metadata": {},
   "outputs": [
    {
     "name": "stdout",
     "output_type": "stream",
     "text": [
      "you lose\n",
      "player point = 10\n",
      "opponent point = 18\n"
     ]
    }
   ],
   "source": [
    "import random\n",
    "\n",
    "player_card1 = random.randint(1,11)\n",
    "player_card2 = random.randint(1,11)\n",
    "player_card3 = random.randint(1,11) \n",
    "opp_card1 = random.randint(1,11)\n",
    "opp_card2 = random.randint(1,11)\n",
    "opp_card3 = random.randint(1,11)\n",
    "player_pts = player_card1 + player_card2 + player_card3\n",
    "opp_pts = opp_card1 + opp_card2 + opp_card3\n",
    "if player_pts > 21 and opp_pts > 21: #when both player exceed 21 points\n",
    "# misconception!!!!!\n",
    "# if player_pts and opp_pts > 21:\n",
    "  print('draw')\n",
    "else:  # at least one of the player have less than 21 points\n",
    "  if player_pts > 21:      #when the if statement is terminate, elif statement will not be run \n",
    "    print('you lose')\n",
    "  if opp_pts > 21:\n",
    "    print('you win')\n",
    "  elif player_pts < opp_pts:\n",
    "    print('you lose')\n",
    "  elif player_pts == opp_pts: \n",
    "   print('draw')\n",
    "  elif player_pts > opp_pts:\n",
    "   print('you win')\n",
    " \n",
    "print('player point = {}'.format(player_pts))\n",
    "print('opponent point = {}'.format(opp_pts))\n"
   ]
  },
  {
   "cell_type": "code",
   "execution_count": null,
   "id": "5a22a881",
   "metadata": {},
   "outputs": [],
   "source": []
  },
  {
   "cell_type": "code",
   "execution_count": null,
   "id": "2c539ad3",
   "metadata": {},
   "outputs": [],
   "source": []
  }
 ],
 "metadata": {
  "kernelspec": {
   "display_name": "Python 3",
   "language": "python",
   "name": "python3"
  },
  "language_info": {
   "codemirror_mode": {
    "name": "ipython",
    "version": 3
   },
   "file_extension": ".py",
   "mimetype": "text/x-python",
   "name": "python",
   "nbconvert_exporter": "python",
   "pygments_lexer": "ipython3",
   "version": "3.6.4"
  }
 },
 "nbformat": 4,
 "nbformat_minor": 5
}
