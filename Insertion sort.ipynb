{
 "cells": [
  {
   "cell_type": "code",
   "execution_count": 9,
   "id": "96252b8d",
   "metadata": {},
   "outputs": [
    {
     "name": "stdout",
     "output_type": "stream",
     "text": [
      "[1, 4, 7, 5, 2, 8, 3]\n"
     ]
    }
   ],
   "source": [
    "def insertion_sort(A):\n",
    "  for i in range(1, len(A)):\n",
    "    j = i - 1\n",
    "    while j >= 0 and data[j+1] < data[j]:\n",
    "      data[j+1], data[j] = data[j], data[j+1]\n",
    "      j-=1\n",
    "  return A\n",
    "\n",
    "# main\n",
    "data = [4, 7, 1, 5, 2, 8, 3]\n",
    "# after first interation\n",
    "#[1, 4, 7, 5, 2, 8, 3]\n",
    "print(insertion_sort(data))"
   ]
  },
  {
   "cell_type": "code",
   "execution_count": null,
   "id": "e231a083",
   "metadata": {},
   "outputs": [],
   "source": []
  }
 ],
 "metadata": {
  "kernelspec": {
   "display_name": "Python 3",
   "language": "python",
   "name": "python3"
  },
  "language_info": {
   "codemirror_mode": {
    "name": "ipython",
    "version": 3
   },
   "file_extension": ".py",
   "mimetype": "text/x-python",
   "name": "python",
   "nbconvert_exporter": "python",
   "pygments_lexer": "ipython3",
   "version": "3.6.4"
  }
 },
 "nbformat": 4,
 "nbformat_minor": 5
}
