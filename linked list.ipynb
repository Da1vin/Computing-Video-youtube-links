{
 "cells": [
  {
   "cell_type": "code",
   "execution_count": null,
   "id": "7d6901b8",
   "metadata": {},
   "outputs": [],
   "source": [
    "class Node:\n",
    "    def __init__(self, data, pointer=None):\n",
    "        self.data = data\n",
    "        self.pointer = pointer # address\n",
    "\n",
    "    def getData(self):\n",
    "        return self.data\n",
    "\n",
    "    def setData(self, newData):\n",
    "        self.data = newData\n",
    "\n",
    "    def getPointer(self):\n",
    "        return self.pointer\n",
    "\n",
    "    def setPointer(self, nextPointer):\n",
    "        self.pointer = nextPointer"
   ]
  },
  {
   "cell_type": "code",
   "execution_count": 1,
   "id": "98e44562",
   "metadata": {},
   "outputs": [
    {
     "ename": "IndentationError",
     "evalue": "expected an indented block (<ipython-input-1-c96aefe863d8>, line 61)",
     "output_type": "error",
     "traceback": [
      "\u001b[1;36m  File \u001b[1;32m\"<ipython-input-1-c96aefe863d8>\"\u001b[1;36m, line \u001b[1;32m61\u001b[0m\n\u001b[1;33m    def deleteTail(self):\u001b[0m\n\u001b[1;37m    ^\u001b[0m\n\u001b[1;31mIndentationError\u001b[0m\u001b[1;31m:\u001b[0m expected an indented block\n"
     ]
    }
   ],
   "source": [
    "class LinkedList:\n",
    "    def __init__(self):\n",
    "        self.head = None # Not a Number\n",
    "        #do not store length here\n",
    "        # because need to + or - every insert\n",
    "    def isEmpty(self):\n",
    "        if self.head == None:\n",
    "            return True\n",
    "        else:\n",
    "            return False\n",
    "\n",
    "    def insertHead(self, data):\n",
    "        if self.isEmpty() == True:\n",
    "            # Node(data) return address of the newly created instance\n",
    "            self.head = Node(data)\n",
    "        else:\n",
    "            newNode = Node(data)\n",
    "            newNode.setPointer(self.head)\n",
    "            self.head = newNode\n",
    "            \n",
    "    def insertTail(self, data):\n",
    "        if self.isEmpty() == True:\n",
    "            # Node(data) return address of the newly created instance\n",
    "            self.head = Node(data)\n",
    "        else:\n",
    "            curr = self.head\n",
    "\n",
    "            newNode = Node(data)\n",
    "            # need to traverse to last node\n",
    "            while curr.getPointer() != None:\n",
    "                curr = curr.getPointer()\n",
    "            # curr is the address of the last node\n",
    "            curr.setPointer(newNode)\n",
    "    \n",
    "    \n",
    "    def length(self):\n",
    "        # empty case is redundant for this case\n",
    "        if self.isEmpty() == True:\n",
    "            # Node(data) return address of the newly created instance\n",
    "            return 0\n",
    "        else:\n",
    "            count = 0          # temporary variable storing a number\n",
    "            curr = self.head   # temporary variable storing address of a node\n",
    "            # traverse until curr is after last node\n",
    "            while curr != None:\n",
    "                count += 1 # on existing node, increase count\n",
    "                curr = curr.getPointer()\n",
    "            return count\n",
    "        \n",
    "    def display(self):\n",
    "        if self.isEmpty() == True:\n",
    "            print('Linked List is empty')\n",
    "        else:\n",
    "            curr = self.head\n",
    "            while curr != None:\n",
    "                print(curr.getData())\n",
    "                curr = curr.getPointer()\n",
    "\n",
    "\n",
    "    def deleteHead(self):\n",
    "        if self.isEmpty() == True:\n",
    "            pass\n",
    "        else:\n",
    "            newNode = Node(data)\n",
    "            newNode.setPointer(self.pointer)\n",
    "            self.head = newNode\n",
    "            \n",
    "    def deleteTail(self):\n",
    "        pass"
   ]
  },
  {
   "cell_type": "code",
   "execution_count": null,
   "id": "8cfae658",
   "metadata": {},
   "outputs": [],
   "source": []
  }
 ],
 "metadata": {
  "kernelspec": {
   "display_name": "Python 3",
   "language": "python",
   "name": "python3"
  },
  "language_info": {
   "codemirror_mode": {
    "name": "ipython",
    "version": 3
   },
   "file_extension": ".py",
   "mimetype": "text/x-python",
   "name": "python",
   "nbconvert_exporter": "python",
   "pygments_lexer": "ipython3",
   "version": "3.6.4"
  }
 },
 "nbformat": 4,
 "nbformat_minor": 5
}
