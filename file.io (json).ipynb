{
 "cells": [
  {
   "cell_type": "code",
   "execution_count": 7,
   "id": "2c00c1f0",
   "metadata": {},
   "outputs": [
    {
     "name": "stdout",
     "output_type": "stream",
     "text": [
      "[{'id': 1, 'name': 'Laptop', 'price': 999}, {'id': 2, 'name': 'Smartphone', 'price': 599}, {'id': 3, 'name': 'Headphones', 'price': 99}]\n"
     ]
    }
   ],
   "source": [
    "import json\n",
    "\n",
    "file = open('products.json', 'r')\n",
    "products = json.load(file)  # Load JSON data from the file\n",
    "print(products)\n",
    "file.close()\n",
    "\n"
   ]
  },
  {
   "cell_type": "code",
   "execution_count": 27,
   "id": "9cfdca66",
   "metadata": {},
   "outputs": [
    {
     "name": "stdout",
     "output_type": "stream",
     "text": [
      "[{'id': 2, 'name': 'Smartphone', 'price': 329}, {'id': 3, 'name': 'Headphones', 'price': 99}, {'id': 4, 'name': 'Tablet', 'price': 299}]\n"
     ]
    }
   ],
   "source": [
    "def load_products(filename):\n",
    "    \"\"\"Load products from a JSON file.\"\"\"\n",
    "    with open(filename, 'r') as file:\n",
    "        return json.load(file)\n",
    "#main\n",
    "products = load_products('products.json')\n",
    "print(products)\n",
    "\n"
   ]
  },
  {
   "cell_type": "code",
   "execution_count": 28,
   "id": "ca7577be",
   "metadata": {},
   "outputs": [],
   "source": [
    "def save_products(filename, products):\n",
    "    \"\"\"Save products to a JSON file.\"\"\"\n",
    "    with open(filename, 'w') as file:\n",
    "        json.dump(products, file, indent=4)\n",
    "        \n",
    "# main\n",
    "# Save modified products to the same file\n",
    "save_products('products.json', products)"
   ]
  },
  {
   "cell_type": "code",
   "execution_count": 24,
   "id": "e9465b4b",
   "metadata": {},
   "outputs": [
    {
     "name": "stdout",
     "output_type": "stream",
     "text": [
      "[{'id': 1, 'name': 'Laptop', 'price': 999}, {'id': 2, 'name': 'Smartphone', 'price': 599}, {'id': 3, 'name': 'Headphones', 'price': 99}, {'id': 4, 'name': 'Tablet', 'price': 299}]\n"
     ]
    }
   ],
   "source": [
    "def add_product(products, new_product):\n",
    "    \"\"\"Add a new product to the list.\"\"\"\n",
    "    products.append(new_product)\n",
    "\n",
    "#main\n",
    "new_product = {\n",
    "    \"id\": 4,\n",
    "    \"name\": \"Tablet\",\n",
    "    \"price\": 299\n",
    "}\n",
    "add_product(products, new_product)\n",
    "\n",
    "# Save modified products to the same file\n",
    "save_products('products.json', products)\n",
    "\n",
    "products = load_products('products.json')\n",
    "print(products)"
   ]
  },
  {
   "cell_type": "code",
   "execution_count": 25,
   "id": "11f44f6f",
   "metadata": {},
   "outputs": [
    {
     "name": "stdout",
     "output_type": "stream",
     "text": [
      "[{'id': 1, 'name': 'Laptop', 'price': 999}, {'id': 2, 'name': 'Smartphone', 'price': 329}, {'id': 3, 'name': 'Headphones', 'price': 99}, {'id': 4, 'name': 'Tablet', 'price': 299}]\n"
     ]
    }
   ],
   "source": [
    "# Update product information\n",
    "def update_product(products, product_id, updated_product):\n",
    "    \"\"\"Update product information.\"\"\"\n",
    "    for product in products:\n",
    "        if product.get('id') == product_id:\n",
    "            product.update(updated_product)\n",
    "            return True\n",
    "    return False\n",
    "\n",
    "# main\n",
    "updated_product = {\n",
    "    \"price\": 329\n",
    "}\n",
    "update_product(products, 2, updated_product)\n",
    "\n",
    "# Save modified products to the same file\n",
    "save_products('products.json', products)\n",
    "\n",
    "products = load_products('products.json')\n",
    "print(products)"
   ]
  },
  {
   "cell_type": "code",
   "execution_count": 30,
   "id": "84b5852f",
   "metadata": {},
   "outputs": [
    {
     "name": "stdout",
     "output_type": "stream",
     "text": [
      "\n",
      "Modified Products:\n",
      "[{'id': 2, 'name': 'Smartphone', 'price': 329}, {'id': 3, 'name': 'Headphones', 'price': 99}, {'id': 4, 'name': 'Tablet', 'price': 299}]\n"
     ]
    }
   ],
   "source": [
    "# Remove a product\n",
    "def remove_product(products, product_id):\n",
    "    \"\"\"Remove a product by its ID.\"\"\"\n",
    "    for product in products:  # Create a copy of the list to iterate over\n",
    "        if product.get('id') == product_id:\n",
    "            products.remove(product)\n",
    "            return True\n",
    "    return False\n",
    "\n",
    "\n",
    "#main\n",
    "remove_product(products, 1)\n",
    "\n",
    "# Save modified products to the same file\n",
    "save_products('products.json', products)\n",
    "\n",
    "# Display modified products\n",
    "print(\"\\nModified Products:\")\n",
    "print(products)\n"
   ]
  },
  {
   "cell_type": "code",
   "execution_count": null,
   "id": "8909dba8",
   "metadata": {},
   "outputs": [],
   "source": []
  }
 ],
 "metadata": {
  "kernelspec": {
   "display_name": "Python 3",
   "language": "python",
   "name": "python3"
  },
  "language_info": {
   "codemirror_mode": {
    "name": "ipython",
    "version": 3
   },
   "file_extension": ".py",
   "mimetype": "text/x-python",
   "name": "python",
   "nbconvert_exporter": "python",
   "pygments_lexer": "ipython3",
   "version": "3.6.4"
  }
 },
 "nbformat": 4,
 "nbformat_minor": 5
}
