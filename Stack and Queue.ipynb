{
 "cells": [
  {
   "cell_type": "code",
   "execution_count": 9,
   "id": "912073de",
   "metadata": {},
   "outputs": [
    {
     "name": "stdout",
     "output_type": "stream",
     "text": [
      "[3, 4]\n"
     ]
    }
   ],
   "source": [
    "class Stack: #(LIFO)\n",
    "    def __init__(self):\n",
    "        self.items = []\n",
    "    \n",
    "    def is_empty(self):\n",
    "        return len(self.items) == 0\n",
    "    \n",
    "    def push(self, item):\n",
    "        self.items.append(item)\n",
    "\n",
    "    def pop(self):\n",
    "        if not self.is_empty():\n",
    "            return self.items.pop()\n",
    "        else:\n",
    "            return \"Stack is empty!\"\n",
    "    \n",
    "    def display(self):\n",
    "        print(self.items)\n",
    "#main\n",
    "list_of_int = Stack()\n",
    "list_of_int.push(3)\n",
    "list_of_int.push(4)\n",
    "list_of_int.push(5)\n",
    "list_of_int.pop()\n",
    "\n",
    "list_of_int.display()"
   ]
  },
  {
   "cell_type": "code",
   "execution_count": 13,
   "id": "2e22a62f",
   "metadata": {},
   "outputs": [
    {
     "name": "stdout",
     "output_type": "stream",
     "text": [
      "[4, 5]\n"
     ]
    }
   ],
   "source": [
    "class Queue:\n",
    "    def __init__(self):\n",
    "        self.items = []\n",
    "    \n",
    "    def is_empty(self):\n",
    "        return len(self.items) == 0\n",
    "    \n",
    "    def enqueue(self, item):\n",
    "        self.items.append(item)\n",
    "\n",
    "    def dequeue(self):\n",
    "        if not self.is_empty():\n",
    "            return self.items.pop(0)\n",
    "        else:\n",
    "            return \"Queue is empty!\"\n",
    "        \n",
    "    def display(self):\n",
    "        print(self.items)\n",
    "\n",
    "# main\n",
    "list_of_int = Queue()\n",
    "list_of_int.enqueue(3)\n",
    "list_of_int.enqueue(4)\n",
    "list_of_int.enqueue(5)\n",
    "list_of_int.dequeue()\n",
    "\n",
    "list_of_int.display()"
   ]
  },
  {
   "cell_type": "code",
   "execution_count": null,
   "id": "a5f5a174",
   "metadata": {},
   "outputs": [],
   "source": []
  }
 ],
 "metadata": {
  "kernelspec": {
   "display_name": "Python 3",
   "language": "python",
   "name": "python3"
  },
  "language_info": {
   "codemirror_mode": {
    "name": "ipython",
    "version": 3
   },
   "file_extension": ".py",
   "mimetype": "text/x-python",
   "name": "python",
   "nbconvert_exporter": "python",
   "pygments_lexer": "ipython3",
   "version": "3.6.4"
  }
 },
 "nbformat": 4,
 "nbformat_minor": 5
}
