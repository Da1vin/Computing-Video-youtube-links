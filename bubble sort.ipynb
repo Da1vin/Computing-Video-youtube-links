{
 "cells": [
  {
   "cell_type": "code",
   "execution_count": 4,
   "id": "15ce7cde",
   "metadata": {},
   "outputs": [
    {
     "name": "stdout",
     "output_type": "stream",
     "text": [
      "[1, 2, 3, 4, 5, 7, 8]\n"
     ]
    }
   ],
   "source": [
    "# bubble sort (non-optimised)\n",
    "def bubble_sort(A):\n",
    "    n = len(A)\n",
    "    for i in range(n):   # loop n times\n",
    "        for j in range(n-1): # everytime move the largest item to the right\n",
    "            #print(A[j], A[j+1])\n",
    "            if A[j] > A[j+1]:\n",
    "                A[j], A[j+1] = A[j+1], A[j] # the largest element will be at the right\n",
    "    return A\n",
    "\n",
    "data = [4, 7, 1, 5, 2, 8, 3]\n",
    "# after first iteration\n",
    "# [4, 1, 5, 2, 7, 3, 8]\n",
    "print(bubble_sort(data))"
   ]
  },
  {
   "cell_type": "code",
   "execution_count": null,
   "id": "ea610b57",
   "metadata": {},
   "outputs": [],
   "source": [
    "# bubble sort (optimised) / exercise: use while\n",
    "def bubble_sort(A):\n",
    "    n = len(A)\n",
    "    for i in range(n):\n",
    "        swapped = False\n",
    "        for j in range(n-1):\n",
    "            #print(A[j], A[j+1])\n",
    "            if A[j] > A[j+1]:\n",
    "                A[j], A[j+1] = A[j+1], A[j]\n",
    "                swapped = True\n",
    "        if not swapped:\n",
    "            break\n",
    "    return A\n",
    "\n",
    "# main\n",
    "data = [4, 7, 1, 5, 2, 8, 3]\n",
    "#data = [1, 2, 3, 5, 4, 7, 6]\n",
    "print(bubble_sort(data))"
   ]
  }
 ],
 "metadata": {
  "kernelspec": {
   "display_name": "Python 3",
   "language": "python",
   "name": "python3"
  },
  "language_info": {
   "codemirror_mode": {
    "name": "ipython",
    "version": 3
   },
   "file_extension": ".py",
   "mimetype": "text/x-python",
   "name": "python",
   "nbconvert_exporter": "python",
   "pygments_lexer": "ipython3",
   "version": "3.6.4"
  }
 },
 "nbformat": 4,
 "nbformat_minor": 5
}
