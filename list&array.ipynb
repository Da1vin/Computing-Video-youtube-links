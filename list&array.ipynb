{
 "cells": [
  {
   "cell_type": "code",
   "execution_count": 5,
   "id": "ee58acad",
   "metadata": {},
   "outputs": [
    {
     "name": "stdout",
     "output_type": "stream",
     "text": [
      "[None, None, None, None, None, None]\n"
     ]
    }
   ],
   "source": [
    "lst1 = []\n",
    "# create an array with 6 fix slots\n",
    "for i in range(6):\n",
    "    lst1.append(None)\n",
    "    \n",
    "print(lst1) #= [None, None, None, None, None, None]"
   ]
  },
  {
   "cell_type": "code",
   "execution_count": 8,
   "id": "bc29181e",
   "metadata": {},
   "outputs": [
    {
     "name": "stdout",
     "output_type": "stream",
     "text": [
      "[None, None, None, None, None, None]\n"
     ]
    }
   ],
   "source": [
    "# with list comprehension\n",
    "lst2 = [None for i in range(6)]\n",
    "print(lst2)"
   ]
  },
  {
   "cell_type": "code",
   "execution_count": 11,
   "id": "98ea18c0",
   "metadata": {},
   "outputs": [
    {
     "name": "stdout",
     "output_type": "stream",
     "text": [
      "[4, None, None, 8, 3, None]\n"
     ]
    }
   ],
   "source": [
    "lst2[0] = 4\n",
    "lst2[3] = 8\n",
    "lst2[4] = 3\n",
    "print(lst2)"
   ]
  },
  {
   "cell_type": "code",
   "execution_count": 13,
   "id": "ae1b5a1f",
   "metadata": {},
   "outputs": [
    {
     "name": "stdout",
     "output_type": "stream",
     "text": [
      "[None, None, 8]\n"
     ]
    }
   ],
   "source": [
    "print(lst2[1:4])"
   ]
  },
  {
   "cell_type": "code",
   "execution_count": 14,
   "id": "32bb1787",
   "metadata": {},
   "outputs": [
    {
     "name": "stdout",
     "output_type": "stream",
     "text": [
      "[4, None, None, 8, 3, None, 10]\n"
     ]
    }
   ],
   "source": [
    "# add an item at the end of a list\n",
    "lst2.append(10)\n",
    "print(lst2)"
   ]
  },
  {
   "cell_type": "code",
   "execution_count": 16,
   "id": "be31554f",
   "metadata": {},
   "outputs": [
    {
     "name": "stdout",
     "output_type": "stream",
     "text": [
      "[4, None, None, 5, 8, 3, None, 10]\n"
     ]
    }
   ],
   "source": [
    "# insert an item at specific location of the list\n",
    "lst2.insert(3, 5)\n",
    "print(lst2)"
   ]
  },
  {
   "cell_type": "code",
   "execution_count": 17,
   "id": "5c8be9f1",
   "metadata": {},
   "outputs": [
    {
     "name": "stdout",
     "output_type": "stream",
     "text": [
      "[4, None, None, 8, 3, None, 10]\n"
     ]
    }
   ],
   "source": [
    "# delete an item using the location\n",
    "lst2.pop(3)\n",
    "print(lst2)"
   ]
  },
  {
   "cell_type": "code",
   "execution_count": 18,
   "id": "efcc630f",
   "metadata": {},
   "outputs": [
    {
     "name": "stdout",
     "output_type": "stream",
     "text": [
      "[4, None, None, 3, None, 10]\n"
     ]
    }
   ],
   "source": [
    "# delete an item using the value\n",
    "lst2.remove(8)\n",
    "print(lst2)"
   ]
  },
  {
   "cell_type": "code",
   "execution_count": 22,
   "id": "fa3a3b37",
   "metadata": {},
   "outputs": [
    {
     "name": "stdout",
     "output_type": "stream",
     "text": [
      "5\n"
     ]
    }
   ],
   "source": [
    "lst3 = [[3,4],[5,6],[2,0,8],[9,54]]\n",
    "print(lst3[1][0])"
   ]
  },
  {
   "cell_type": "code",
   "execution_count": 26,
   "id": "7d1f54fb",
   "metadata": {},
   "outputs": [
    {
     "name": "stdout",
     "output_type": "stream",
     "text": [
      "3\n",
      "4\n",
      "3\n",
      "10\n"
     ]
    }
   ],
   "source": [
    "# print the index of the item that has a value of 3\n",
    "for i in range(len(lst2)):\n",
    "    if i == 3:\n",
    "        print(lst2[i])\n",
    "\n",
    "for number in lst2: # in this case, the 'number' is actually the number value in the list\n",
    "    if number != None:\n",
    "        print(number)\n",
    "        "
   ]
  },
  {
   "cell_type": "code",
   "execution_count": 28,
   "id": "66f319d0",
   "metadata": {},
   "outputs": [
    {
     "name": "stdout",
     "output_type": "stream",
     "text": [
      "23\n"
     ]
    }
   ],
   "source": [
    "# finding the total value of a list\n",
    "def total_value(lst):\n",
    "    total = 0\n",
    "    for num in lst:\n",
    "        total += num\n",
    "    print(total)\n",
    "\n",
    "#main\n",
    "lst4 = [3,4,6,1,7,2]\n",
    "total_value(lst4)"
   ]
  },
  {
   "cell_type": "code",
   "execution_count": 29,
   "id": "06b01ba7",
   "metadata": {},
   "outputs": [
    {
     "name": "stdout",
     "output_type": "stream",
     "text": [
      "7\n"
     ]
    }
   ],
   "source": [
    "# find the max value of the list\n",
    "def find_max_value(lst):\n",
    "    max_value = lst[0]\n",
    "    for num in lst:\n",
    "        if num >= max_value:\n",
    "            max_value = num\n",
    "    print(max_value)\n",
    "    \n",
    "#main\n",
    "lst4 = [3,4,6,1,7,2]\n",
    "find_max_value(lst4)"
   ]
  },
  {
   "cell_type": "code",
   "execution_count": null,
   "id": "7a90b363",
   "metadata": {},
   "outputs": [],
   "source": []
  }
 ],
 "metadata": {
  "kernelspec": {
   "display_name": "Python 3",
   "language": "python",
   "name": "python3"
  },
  "language_info": {
   "codemirror_mode": {
    "name": "ipython",
    "version": 3
   },
   "file_extension": ".py",
   "mimetype": "text/x-python",
   "name": "python",
   "nbconvert_exporter": "python",
   "pygments_lexer": "ipython3",
   "version": "3.6.4"
  }
 },
 "nbformat": 4,
 "nbformat_minor": 5
}
